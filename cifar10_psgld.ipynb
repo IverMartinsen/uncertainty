{
  "nbformat": 4,
  "nbformat_minor": 0,
  "metadata": {
    "colab": {
      "provenance": [],
      "gpuType": "T4",
      "authorship_tag": "ABX9TyOgJ5SiNTXlYBSNtyegirOv",
      "include_colab_link": true
    },
    "kernelspec": {
      "name": "python3",
      "display_name": "Python 3"
    },
    "language_info": {
      "name": "python"
    },
    "accelerator": "GPU"
  },
  "cells": [
    {
      "cell_type": "markdown",
      "metadata": {
        "id": "view-in-github",
        "colab_type": "text"
      },
      "source": [
        "<a href=\"https://colab.research.google.com/github/IverMartinsen/uncertainty/blob/main/cifar10_psgld.ipynb\" target=\"_parent\"><img src=\"https://colab.research.google.com/assets/colab-badge.svg\" alt=\"Open In Colab\"/></a>"
      ]
    },
    {
      "cell_type": "code",
      "source": [
        "! git clone https://github.com/IverMartinsen/uncertainty.git"
      ],
      "metadata": {
        "id": "kv16DSNgkryX",
        "outputId": "14ec0818-483f-40fa-cbc7-42ba762febce",
        "colab": {
          "base_uri": "https://localhost:8080/"
        }
      },
      "execution_count": 6,
      "outputs": [
        {
          "output_type": "stream",
          "name": "stdout",
          "text": [
            "fatal: destination path 'uncertainty' already exists and is not an empty directory.\n"
          ]
        }
      ]
    },
    {
      "cell_type": "code",
      "execution_count": 11,
      "metadata": {
        "id": "AXFzd4zMi69R"
      },
      "outputs": [],
      "source": [
        "import tensorflow as tf\n",
        "import tensorflow_probability as tfp\n",
        "import tensorflow_datasets as tfds\n",
        "import matplotlib.pyplot as plt\n",
        "\n",
        "from uncertainty.pSGLD import pSGLangevinDynamics"
      ]
    },
    {
      "cell_type": "markdown",
      "source": [
        "### Hyperparameters"
      ],
      "metadata": {
        "id": "qgY6mR2OmV1X"
      }
    },
    {
      "cell_type": "code",
      "source": [
        "n = 50000 # sample size, needed for scaling the optimizer\n",
        "batch_size = 512\n",
        "epochs = 100\n",
        "prior_precision = 0.01\n",
        "\n",
        "# optimizer\n",
        "base_learning_rate = 0.001\n",
        "lr_decay_rate = 0.9\n",
        "diagonal_bias = 1e-8 # lambda parameter in the paper\n",
        "preconditioner_decay_rate = 0.95 # alpha parameter in the paper\n",
        "burnin = 1 * n // batch_size # number of training steps before starting to add gradient noise"
      ],
      "metadata": {
        "id": "AP-CPAFgmCod"
      },
      "execution_count": 14,
      "outputs": []
    },
    {
      "cell_type": "markdown",
      "source": [
        "### Load data and define model"
      ],
      "metadata": {
        "id": "9pGKVSSrmLo-"
      }
    },
    {
      "cell_type": "code",
      "source": [
        "ds_train, ds_test = tfds.load('cifar10', split=['train', 'test'], shuffle_files=True, as_supervised=True, batch_size=batch_size)\n",
        "\n",
        "# adding a prior to the weights\n",
        "regularizer = tf.keras.regularizers.l2(prior_precision)\n",
        "\n",
        "model = tf.keras.Sequential([\n",
        "    tf.keras.layers.Conv2D(32, (3, 3), activation='relu', input_shape=(32, 32, 3), padding='same', kernel_regularizer=regularizer, bias_regularizer=regularizer),\n",
        "    tf.keras.layers.MaxPooling2D(),\n",
        "    tf.keras.layers.Conv2D(64, (3, 3), activation='relu', padding='same', kernel_regularizer=regularizer, bias_regularizer=regularizer),\n",
        "    tf.keras.layers.MaxPooling2D(),\n",
        "    tf.keras.layers.Conv2D(64, (3, 3), activation='relu', padding='same', kernel_regularizer=regularizer, bias_regularizer=regularizer),\n",
        "    tf.keras.layers.MaxPooling2D(),\n",
        "    tf.keras.layers.Flatten(),\n",
        "    tf.keras.layers.Dense(10, activation='softmax', kernel_regularizer=regularizer, bias_regularizer=regularizer)\n",
        "])\n",
        "\n",
        "model.summary()"
      ],
      "metadata": {
        "id": "MDFBnI9mjEX7",
        "outputId": "70ea89dd-58a1-4178-8ea8-fdee4f6697a1",
        "colab": {
          "base_uri": "https://localhost:8080/"
        }
      },
      "execution_count": 22,
      "outputs": [
        {
          "output_type": "stream",
          "name": "stdout",
          "text": [
            "Model: \"sequential_1\"\n",
            "_________________________________________________________________\n",
            " Layer (type)                Output Shape              Param #   \n",
            "=================================================================\n",
            " conv2d_3 (Conv2D)           (None, 32, 32, 32)        896       \n",
            "                                                                 \n",
            " max_pooling2d_3 (MaxPoolin  (None, 16, 16, 32)        0         \n",
            " g2D)                                                            \n",
            "                                                                 \n",
            " conv2d_4 (Conv2D)           (None, 16, 16, 64)        18496     \n",
            "                                                                 \n",
            " max_pooling2d_4 (MaxPoolin  (None, 8, 8, 64)          0         \n",
            " g2D)                                                            \n",
            "                                                                 \n",
            " conv2d_5 (Conv2D)           (None, 8, 8, 64)          36928     \n",
            "                                                                 \n",
            " max_pooling2d_5 (MaxPoolin  (None, 4, 4, 64)          0         \n",
            " g2D)                                                            \n",
            "                                                                 \n",
            " flatten_1 (Flatten)         (None, 1024)              0         \n",
            "                                                                 \n",
            " dense_1 (Dense)             (None, 10)                10250     \n",
            "                                                                 \n",
            "=================================================================\n",
            "Total params: 66570 (260.04 KB)\n",
            "Trainable params: 66570 (260.04 KB)\n",
            "Non-trainable params: 0 (0.00 Byte)\n",
            "_________________________________________________________________\n"
          ]
        }
      ]
    },
    {
      "cell_type": "markdown",
      "source": [
        "### Visualize learning rate schedule"
      ],
      "metadata": {
        "id": "ClbpWqqPmfWs"
      }
    },
    {
      "cell_type": "code",
      "source": [
        "lr_schedule = tf.keras.optimizers.schedules.InverseTimeDecay(\n",
        "    initial_learning_rate=base_learning_rate / n,\n",
        "    decay_steps=epochs*n//(batch_size),\n",
        "    decay_rate=lr_decay_rate,\n",
        "    staircase=False\n",
        ")\n",
        "\n",
        "plt.plot(lr_schedule(tf.range(epochs*n//batch_size)))\n",
        "plt.ylabel(\"Learning rate\")\n",
        "plt.xlabel(\"Step\")\n",
        "plt.show()\n"
      ],
      "metadata": {
        "colab": {
          "base_uri": "https://localhost:8080/",
          "height": 465
        },
        "id": "3Q5VX-Bflkpi",
        "outputId": "2686bc7e-6bbf-4a9d-cb4f-58f5b9705304"
      },
      "execution_count": 17,
      "outputs": [
        {
          "output_type": "display_data",
          "data": {
            "text/plain": [
              "<Figure size 640x480 with 1 Axes>"
            ],
            "image/png": "[encoded data removed]"
          },
          "metadata": {}
        }
      ]
    },
    {
      "cell_type": "markdown",
      "source": [
        "### Train the model"
      ],
      "metadata": {
        "id": "bhl_DkW9my2a"
      }
    },
    {
      "cell_type": "code",
      "source": [
        "optimizer = pSGLangevinDynamics(\n",
        "    learning_rate=lr_schedule,\n",
        "    rho=preconditioner_decay_rate,\n",
        "    epsilon=diagonal_bias,\n",
        "    burnin=burnin,\n",
        "    data_size=n,\n",
        "    )\n",
        "\n",
        "loss = tf.keras.losses.SparseCategoricalCrossentropy(from_logits=False)\n",
        "\n",
        "\n",
        "class RecordParametersCallback(tf.keras.callbacks.Callback):\n",
        "    \"\"\"\n",
        "    To record parameters during training.\n",
        "    \"\"\"\n",
        "    def __init__(self):\n",
        "        super().__init__()\n",
        "        self.parameters = []\n",
        "    def on_epoch_end(self, epoch, logs=None):\n",
        "        self.parameters.append(model.get_weights())\n",
        "\n",
        "\n",
        "model.compile(optimizer=optimizer, loss=loss, metrics=['accuracy'])\n",
        "\n",
        "callback = RecordParametersCallback()\n",
        "\n",
        "model.fit(ds_train, epochs=epochs, validation_data=ds_test, callbacks=[callback], shuffle=True)"
      ],
      "metadata": {
        "colab": {
          "base_uri": "https://localhost:8080/"
        },
        "id": "NOsJOxnxjTML",
        "outputId": "ebccb535-7670-4be3-fdf2-53528d4dfbc4"
      },
      "execution_count": 18,
      "outputs": [
        {
          "output_type": "stream",
          "name": "stdout",
          "text": [
            "Epoch 1/100\n",
            "98/98 [==============================] - 19s 76ms/step - loss: 6.6327 - accuracy: 0.2373 - val_loss: 3.1648 - val_accuracy: 0.3228\n",
            "Epoch 2/100\n",
            "98/98 [==============================] - 2s 16ms/step - loss: 2.9389 - accuracy: 0.3697 - val_loss: 2.7308 - val_accuracy: 0.4343\n",
            "Epoch 3/100\n",
            "98/98 [==============================] - 2s 17ms/step - loss: 2.6449 - accuracy: 0.4492 - val_loss: 2.5599 - val_accuracy: 0.4780\n",
            "Epoch 4/100\n",
            "98/98 [==============================] - 2s 18ms/step - loss: 2.4567 - accuracy: 0.4954 - val_loss: 2.5784 - val_accuracy: 0.4407\n",
            "Epoch 5/100\n",
            "98/98 [==============================] - 2s 15ms/step - loss: 2.3248 - accuracy: 0.5342 - val_loss: 2.3748 - val_accuracy: 0.5142\n",
            "Epoch 6/100\n",
            "98/98 [==============================] - 1s 15ms/step - loss: 2.2307 - accuracy: 0.5597 - val_loss: 2.2418 - val_accuracy: 0.5480\n",
            "Epoch 7/100\n",
            "98/98 [==============================] - 1s 15ms/step - loss: 2.1557 - accuracy: 0.5789 - val_loss: 2.1662 - val_accuracy: 0.5759\n",
            "Epoch 8/100\n",
            "98/98 [==============================] - 2s 15ms/step - loss: 2.1008 - accuracy: 0.5918 - val_loss: 2.1359 - val_accuracy: 0.5839\n",
            "Epoch 9/100\n",
            "98/98 [==============================] - 2s 15ms/step - loss: 2.0523 - accuracy: 0.6065 - val_loss: 2.0837 - val_accuracy: 0.5961\n",
            "Epoch 10/100\n",
            "98/98 [==============================] - 2s 18ms/step - loss: 2.0081 - accuracy: 0.6217 - val_loss: 2.0256 - val_accuracy: 0.6126\n",
            "Epoch 11/100\n",
            "98/98 [==============================] - 2s 18ms/step - loss: 1.9736 - accuracy: 0.6318 - val_loss: 2.0109 - val_accuracy: 0.6161\n",
            "Epoch 12/100\n",
            "98/98 [==============================] - 2s 15ms/step - loss: 1.9421 - accuracy: 0.6406 - val_loss: 2.1828 - val_accuracy: 0.5647\n",
            "Epoch 13/100\n",
            "98/98 [==============================] - 2s 16ms/step - loss: 1.9184 - accuracy: 0.6468 - val_loss: 1.9678 - val_accuracy: 0.6311\n",
            "Epoch 14/100\n",
            "98/98 [==============================] - 2s 15ms/step - loss: 1.8995 - accuracy: 0.6544 - val_loss: 1.9474 - val_accuracy: 0.6370\n",
            "Epoch 15/100\n",
            "98/98 [==============================] - 1s 15ms/step - loss: 1.8740 - accuracy: 0.6605 - val_loss: 1.9227 - val_accuracy: 0.6473\n",
            "Epoch 16/100\n",
            "98/98 [==============================] - 2s 17ms/step - loss: 1.8590 - accuracy: 0.6647 - val_loss: 1.9555 - val_accuracy: 0.6363\n",
            "Epoch 17/100\n",
            "98/98 [==============================] - 2s 17ms/step - loss: 1.8366 - accuracy: 0.6734 - val_loss: 1.8907 - val_accuracy: 0.6534\n",
            "Epoch 18/100\n",
            "98/98 [==============================] - 2s 17ms/step - loss: 1.8188 - accuracy: 0.6782 - val_loss: 1.9130 - val_accuracy: 0.6463\n",
            "Epoch 19/100\n",
            "98/98 [==============================] - 2s 16ms/step - loss: 1.8065 - accuracy: 0.6852 - val_loss: 1.9302 - val_accuracy: 0.6352\n",
            "Epoch 20/100\n",
            "98/98 [==============================] - 2s 15ms/step - loss: 1.7997 - accuracy: 0.6843 - val_loss: 1.8730 - val_accuracy: 0.6626\n",
            "Epoch 21/100\n",
            "98/98 [==============================] - 2s 16ms/step - loss: 1.7881 - accuracy: 0.6876 - val_loss: 1.8873 - val_accuracy: 0.6629\n",
            "Epoch 22/100\n",
            "98/98 [==============================] - 1s 15ms/step - loss: 1.7889 - accuracy: 0.6905 - val_loss: 1.8833 - val_accuracy: 0.6543\n",
            "Epoch 23/100\n",
            "98/98 [==============================] - 2s 16ms/step - loss: 1.7687 - accuracy: 0.6928 - val_loss: 1.8668 - val_accuracy: 0.6616\n",
            "Epoch 24/100\n",
            "98/98 [==============================] - 2s 18ms/step - loss: 1.7597 - accuracy: 0.6983 - val_loss: 1.8749 - val_accuracy: 0.6654\n",
            "Epoch 25/100\n",
            "98/98 [==============================] - 2s 18ms/step - loss: 1.7604 - accuracy: 0.6983 - val_loss: 1.8499 - val_accuracy: 0.6695\n",
            "Epoch 26/100\n",
            "98/98 [==============================] - 2s 15ms/step - loss: 1.7495 - accuracy: 0.7025 - val_loss: 1.8579 - val_accuracy: 0.6751\n",
            "Epoch 27/100\n",
            "98/98 [==============================] - 1s 15ms/step - loss: 1.7443 - accuracy: 0.7063 - val_loss: 1.8508 - val_accuracy: 0.6705\n",
            "Epoch 28/100\n",
            "98/98 [==============================] - 2s 16ms/step - loss: 1.7386 - accuracy: 0.7071 - val_loss: 1.8549 - val_accuracy: 0.6794\n",
            "Epoch 29/100\n",
            "98/98 [==============================] - 1s 15ms/step - loss: 1.7341 - accuracy: 0.7113 - val_loss: 1.8407 - val_accuracy: 0.6757\n",
            "Epoch 30/100\n",
            "98/98 [==============================] - 2s 16ms/step - loss: 1.7184 - accuracy: 0.7116 - val_loss: 1.8459 - val_accuracy: 0.6758\n",
            "Epoch 31/100\n",
            "98/98 [==============================] - 2s 18ms/step - loss: 1.7187 - accuracy: 0.7157 - val_loss: 1.8367 - val_accuracy: 0.6780\n",
            "Epoch 32/100\n",
            "98/98 [==============================] - 2s 18ms/step - loss: 1.7137 - accuracy: 0.7182 - val_loss: 1.8272 - val_accuracy: 0.6783\n",
            "Epoch 33/100\n",
            "98/98 [==============================] - 2s 15ms/step - loss: 1.7023 - accuracy: 0.7211 - val_loss: 1.8086 - val_accuracy: 0.6830\n",
            "Epoch 34/100\n",
            "98/98 [==============================] - 2s 16ms/step - loss: 1.6976 - accuracy: 0.7224 - val_loss: 1.8281 - val_accuracy: 0.6798\n",
            "Epoch 35/100\n",
            "98/98 [==============================] - 2s 15ms/step - loss: 1.6912 - accuracy: 0.7264 - val_loss: 1.8329 - val_accuracy: 0.6767\n",
            "Epoch 36/100\n",
            "98/98 [==============================] - 2s 15ms/step - loss: 1.6872 - accuracy: 0.7263 - val_loss: 1.7839 - val_accuracy: 0.6936\n",
            "Epoch 37/100\n",
            "98/98 [==============================] - 1s 15ms/step - loss: 1.6716 - accuracy: 0.7264 - val_loss: 1.7922 - val_accuracy: 0.6877\n",
            "Epoch 38/100\n",
            "98/98 [==============================] - 2s 17ms/step - loss: 1.6670 - accuracy: 0.7268 - val_loss: 1.8328 - val_accuracy: 0.6732\n",
            "Epoch 39/100\n",
            "98/98 [==============================] - 2s 17ms/step - loss: 1.6614 - accuracy: 0.7292 - val_loss: 1.7960 - val_accuracy: 0.6905\n",
            "Epoch 40/100\n",
            "98/98 [==============================] - 2s 16ms/step - loss: 1.6629 - accuracy: 0.7291 - val_loss: 1.7927 - val_accuracy: 0.6889\n",
            "Epoch 41/100\n",
            "98/98 [==============================] - 1s 15ms/step - loss: 1.6511 - accuracy: 0.7321 - val_loss: 1.8152 - val_accuracy: 0.6868\n",
            "Epoch 42/100\n",
            "98/98 [==============================] - 2s 16ms/step - loss: 1.6549 - accuracy: 0.7320 - val_loss: 1.7932 - val_accuracy: 0.6892\n",
            "Epoch 43/100\n",
            "98/98 [==============================] - 2s 15ms/step - loss: 1.6490 - accuracy: 0.7346 - val_loss: 1.7838 - val_accuracy: 0.6966\n",
            "Epoch 44/100\n",
            "98/98 [==============================] - 2s 18ms/step - loss: 1.6418 - accuracy: 0.7366 - val_loss: 1.7922 - val_accuracy: 0.6930\n",
            "Epoch 45/100\n",
            "98/98 [==============================] - 2s 16ms/step - loss: 1.6329 - accuracy: 0.7409 - val_loss: 1.7927 - val_accuracy: 0.6861\n",
            "Epoch 46/100\n",
            "98/98 [==============================] - 1s 15ms/step - loss: 1.6285 - accuracy: 0.7396 - val_loss: 1.7688 - val_accuracy: 0.7005\n",
            "Epoch 47/100\n",
            "98/98 [==============================] - 2s 16ms/step - loss: 1.6225 - accuracy: 0.7403 - val_loss: 1.7680 - val_accuracy: 0.6983\n",
            "Epoch 48/100\n",
            "98/98 [==============================] - 1s 15ms/step - loss: 1.6164 - accuracy: 0.7435 - val_loss: 1.7562 - val_accuracy: 0.7015\n",
            "Epoch 49/100\n",
            "98/98 [==============================] - 2s 17ms/step - loss: 1.6134 - accuracy: 0.7443 - val_loss: 1.7845 - val_accuracy: 0.6954\n",
            "Epoch 50/100\n",
            "98/98 [==============================] - 2s 17ms/step - loss: 1.6152 - accuracy: 0.7473 - val_loss: 1.7462 - val_accuracy: 0.7106\n",
            "Epoch 51/100\n",
            "98/98 [==============================] - 2s 16ms/step - loss: 1.6142 - accuracy: 0.7481 - val_loss: 1.7663 - val_accuracy: 0.7039\n",
            "Epoch 52/100\n",
            "98/98 [==============================] - 2s 16ms/step - loss: 1.6105 - accuracy: 0.7483 - val_loss: 1.7863 - val_accuracy: 0.6985\n",
            "Epoch 53/100\n",
            "98/98 [==============================] - 1s 15ms/step - loss: 1.6104 - accuracy: 0.7482 - val_loss: 1.7668 - val_accuracy: 0.6997\n",
            "Epoch 54/100\n",
            "98/98 [==============================] - 1s 15ms/step - loss: 1.6033 - accuracy: 0.7503 - val_loss: 1.7729 - val_accuracy: 0.7009\n",
            "Epoch 55/100\n",
            "98/98 [==============================] - 1s 15ms/step - loss: 1.5953 - accuracy: 0.7519 - val_loss: 1.7707 - val_accuracy: 0.7013\n",
            "Epoch 56/100\n",
            "98/98 [==============================] - 2s 16ms/step - loss: 1.5958 - accuracy: 0.7514 - val_loss: 1.8000 - val_accuracy: 0.6935\n",
            "Epoch 57/100\n",
            "98/98 [==============================] - 2s 18ms/step - loss: 1.5988 - accuracy: 0.7514 - val_loss: 1.7898 - val_accuracy: 0.6924\n",
            "Epoch 58/100\n",
            "98/98 [==============================] - 1s 15ms/step - loss: 1.5922 - accuracy: 0.7553 - val_loss: 1.7550 - val_accuracy: 0.7099\n",
            "Epoch 59/100\n",
            "98/98 [==============================] - 1s 15ms/step - loss: 1.5940 - accuracy: 0.7555 - val_loss: 1.7278 - val_accuracy: 0.7173\n",
            "Epoch 60/100\n",
            "98/98 [==============================] - 1s 15ms/step - loss: 1.5912 - accuracy: 0.7549 - val_loss: 1.7408 - val_accuracy: 0.7126\n",
            "Epoch 61/100\n",
            "98/98 [==============================] - 1s 15ms/step - loss: 1.5824 - accuracy: 0.7579 - val_loss: 1.7273 - val_accuracy: 0.7158\n",
            "Epoch 62/100\n",
            "98/98 [==============================] - 2s 16ms/step - loss: 1.5862 - accuracy: 0.7564 - val_loss: 1.7358 - val_accuracy: 0.7129\n",
            "Epoch 63/100\n",
            "98/98 [==============================] - 2s 19ms/step - loss: 1.5850 - accuracy: 0.7556 - val_loss: 1.7086 - val_accuracy: 0.7220\n",
            "Epoch 64/100\n",
            "98/98 [==============================] - 2s 17ms/step - loss: 1.5813 - accuracy: 0.7589 - val_loss: 1.7322 - val_accuracy: 0.7157\n",
            "Epoch 65/100\n",
            "98/98 [==============================] - 2s 15ms/step - loss: 1.5828 - accuracy: 0.7576 - val_loss: 1.7711 - val_accuracy: 0.7029\n",
            "Epoch 66/100\n",
            "98/98 [==============================] - 2s 16ms/step - loss: 1.5816 - accuracy: 0.7616 - val_loss: 1.7402 - val_accuracy: 0.7135\n",
            "Epoch 67/100\n",
            "98/98 [==============================] - 2s 16ms/step - loss: 1.5751 - accuracy: 0.7636 - val_loss: 1.7651 - val_accuracy: 0.6987\n",
            "Epoch 68/100\n",
            "98/98 [==============================] - 1s 15ms/step - loss: 1.5723 - accuracy: 0.7636 - val_loss: 1.7301 - val_accuracy: 0.7135\n",
            "Epoch 69/100\n",
            "98/98 [==============================] - 2s 17ms/step - loss: 1.5637 - accuracy: 0.7643 - val_loss: 1.7466 - val_accuracy: 0.7104\n",
            "Epoch 70/100\n",
            "98/98 [==============================] - 2s 18ms/step - loss: 1.5665 - accuracy: 0.7653 - val_loss: 1.7231 - val_accuracy: 0.7195\n",
            "Epoch 71/100\n",
            "98/98 [==============================] - 2s 15ms/step - loss: 1.5637 - accuracy: 0.7678 - val_loss: 1.7687 - val_accuracy: 0.7086\n",
            "Epoch 72/100\n",
            "98/98 [==============================] - 1s 15ms/step - loss: 1.5662 - accuracy: 0.7666 - val_loss: 1.7314 - val_accuracy: 0.7185\n",
            "Epoch 73/100\n",
            "98/98 [==============================] - 2s 16ms/step - loss: 1.5669 - accuracy: 0.7670 - val_loss: 1.7239 - val_accuracy: 0.7179\n",
            "Epoch 74/100\n",
            "98/98 [==============================] - 2s 15ms/step - loss: 1.5668 - accuracy: 0.7670 - val_loss: 1.7405 - val_accuracy: 0.7143\n",
            "Epoch 75/100\n",
            "98/98 [==============================] - 2s 15ms/step - loss: 1.5624 - accuracy: 0.7661 - val_loss: 1.7216 - val_accuracy: 0.7188\n",
            "Epoch 76/100\n",
            "98/98 [==============================] - 2s 17ms/step - loss: 1.5631 - accuracy: 0.7688 - val_loss: 1.7249 - val_accuracy: 0.7195\n",
            "Epoch 77/100\n",
            "98/98 [==============================] - 2s 17ms/step - loss: 1.5630 - accuracy: 0.7696 - val_loss: 1.7213 - val_accuracy: 0.7243\n",
            "Epoch 78/100\n",
            "98/98 [==============================] - 2s 16ms/step - loss: 1.5617 - accuracy: 0.7699 - val_loss: 1.8099 - val_accuracy: 0.6993\n",
            "Epoch 79/100\n",
            "98/98 [==============================] - 2s 15ms/step - loss: 1.5636 - accuracy: 0.7694 - val_loss: 1.7334 - val_accuracy: 0.7192\n",
            "Epoch 80/100\n",
            "98/98 [==============================] - 2s 16ms/step - loss: 1.5640 - accuracy: 0.7679 - val_loss: 1.7390 - val_accuracy: 0.7188\n",
            "Epoch 81/100\n",
            "98/98 [==============================] - 1s 15ms/step - loss: 1.5566 - accuracy: 0.7701 - val_loss: 1.7891 - val_accuracy: 0.7048\n",
            "Epoch 82/100\n",
            "98/98 [==============================] - 2s 18ms/step - loss: 1.5575 - accuracy: 0.7703 - val_loss: 1.7442 - val_accuracy: 0.7165\n",
            "Epoch 83/100\n",
            "98/98 [==============================] - 2s 16ms/step - loss: 1.5543 - accuracy: 0.7701 - val_loss: 1.7503 - val_accuracy: 0.7115\n",
            "Epoch 84/100\n",
            "98/98 [==============================] - 2s 16ms/step - loss: 1.5492 - accuracy: 0.7720 - val_loss: 1.7467 - val_accuracy: 0.7182\n",
            "Epoch 85/100\n",
            "98/98 [==============================] - 2s 15ms/step - loss: 1.5518 - accuracy: 0.7712 - val_loss: 1.7422 - val_accuracy: 0.7211\n",
            "Epoch 86/100\n",
            "98/98 [==============================] - 2s 15ms/step - loss: 1.5526 - accuracy: 0.7731 - val_loss: 1.7520 - val_accuracy: 0.7182\n",
            "Epoch 87/100\n",
            "98/98 [==============================] - 2s 16ms/step - loss: 1.5529 - accuracy: 0.7731 - val_loss: 1.7205 - val_accuracy: 0.7294\n",
            "Epoch 88/100\n",
            "98/98 [==============================] - 2s 15ms/step - loss: 1.5485 - accuracy: 0.7747 - val_loss: 1.7360 - val_accuracy: 0.7190\n",
            "Epoch 89/100\n",
            "98/98 [==============================] - 2s 18ms/step - loss: 1.5372 - accuracy: 0.7757 - val_loss: 1.7177 - val_accuracy: 0.7280\n",
            "Epoch 90/100\n",
            "98/98 [==============================] - 2s 17ms/step - loss: 1.5362 - accuracy: 0.7770 - val_loss: 1.7173 - val_accuracy: 0.7287\n",
            "Epoch 91/100\n",
            "98/98 [==============================] - 2s 16ms/step - loss: 1.5399 - accuracy: 0.7761 - val_loss: 1.7312 - val_accuracy: 0.7245\n",
            "Epoch 92/100\n",
            "98/98 [==============================] - 2s 16ms/step - loss: 1.5357 - accuracy: 0.7780 - val_loss: 1.7169 - val_accuracy: 0.7308\n",
            "Epoch 93/100\n",
            "98/98 [==============================] - 2s 16ms/step - loss: 1.5331 - accuracy: 0.7795 - val_loss: 1.7361 - val_accuracy: 0.7234\n",
            "Epoch 94/100\n",
            "98/98 [==============================] - 2s 16ms/step - loss: 1.5271 - accuracy: 0.7785 - val_loss: 1.7272 - val_accuracy: 0.7203\n",
            "Epoch 95/100\n",
            "98/98 [==============================] - 2s 16ms/step - loss: 1.5263 - accuracy: 0.7810 - val_loss: 1.7047 - val_accuracy: 0.7318\n",
            "Epoch 96/100\n",
            "98/98 [==============================] - 2s 18ms/step - loss: 1.5304 - accuracy: 0.7795 - val_loss: 1.7070 - val_accuracy: 0.7298\n",
            "Epoch 97/100\n",
            "98/98 [==============================] - 2s 16ms/step - loss: 1.5262 - accuracy: 0.7793 - val_loss: 1.7155 - val_accuracy: 0.7285\n",
            "Epoch 98/100\n",
            "98/98 [==============================] - 2s 16ms/step - loss: 1.5151 - accuracy: 0.7822 - val_loss: 1.6924 - val_accuracy: 0.7354\n",
            "Epoch 99/100\n",
            "98/98 [==============================] - 2s 16ms/step - loss: 1.5168 - accuracy: 0.7807 - val_loss: 1.6928 - val_accuracy: 0.7324\n",
            "Epoch 100/100\n",
            "98/98 [==============================] - 2s 15ms/step - loss: 1.5189 - accuracy: 0.7818 - val_loss: 1.7444 - val_accuracy: 0.7190\n"
          ]
        },
        {
          "output_type": "execute_result",
          "data": {
            "text/plain": [
              "<keras.src.callbacks.History at 0x7e4e07105a50>"
            ]
          },
          "metadata": {},
          "execution_count": 18
        }
      ]
    },
    {
      "cell_type": "code",
      "source": [
        "parameters = callback.parameters"
      ],
      "metadata": {
        "id": "X2eCwOtJsqQH"
      },
      "execution_count": 19,
      "outputs": []
    }
  ]
}